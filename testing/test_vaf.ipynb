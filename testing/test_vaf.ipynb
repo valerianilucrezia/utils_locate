{
 "cells": [
  {
   "cell_type": "code",
   "execution_count": null,
   "metadata": {},
   "outputs": [],
   "source": [
    "import torch\n",
    "import os\n",
    "import pyro\n",
    "from pyro.optim import Adam, ClippedAdam\n",
    "from pyro.infer import TraceMeanField_ELBO, TraceEnum_ELBO, TraceGraph_ELBO, Trace_ELBO\n",
    "import pyro.distributions as dist\n",
    "\n",
    "import matplotlib.pyplot as plt\n",
    "import seaborn as sns\n",
    "import numpy as np\n",
    "import pandas as pd\n",
    "import pickle\n",
    "\n",
    "os.chdir('/Users/lucreziavaleriani/Documents/GitHub/utils_locate/')\n",
    "from simulations.simulations import simulate_segment, simulate_data"
   ]
  },
  {
   "cell_type": "code",
   "execution_count": null,
   "metadata": {},
   "outputs": [],
   "source": [
    "purity = 1\n",
    "coverage = 100\n",
    "ploidy = 2\n",
    "\n",
    "segs = simulate_segment(only_clonal = True, purity = purity, coverage = coverage, genome_size = 30000000)\n",
    "snp,snv = simulate_data(segs)\n",
    "\n",
    "snv = snv.loc[snv['vaf'] < 1]\n",
    "take_idx = snv.index\n",
    "snp = snp[snp.index.isin(take_idx)]\n",
    "\n",
    "\n",
    "data_input = {'baf':torch.tensor(np.array(snp['baf']).reshape(-1, 1)), \n",
    "              'dr':torch.tensor(np.array(snp['dr']).reshape(-1, 1)),\n",
    "              'vaf':torch.tensor(np.array(snv['nv']).reshape(-1, 1)),\n",
    "              'dp':torch.tensor(np.array(snv['coverage']).reshape(-1, 1)),\n",
    "              'dp_snp':torch.tensor(np.array(snp['cov']).reshape(-1, 1))}\n",
    "print(set(snp.CN_1))"
   ]
  },
  {
   "cell_type": "code",
   "execution_count": null,
   "metadata": {},
   "outputs": [],
   "source": [
    "sns.set_theme(style=\"white\", font_scale=1)\n",
    "fig, axes = plt.subplots(3, 1, figsize=(9, 7))\n",
    "\n",
    "baf = sns.scatterplot(data=snp, x=\"pos\", y=\"baf\", s=2, ax=axes[0], hue=\"CN_1\")\n",
    "dr = sns.scatterplot(data=snp, x=\"pos\", y=\"dr\", s=2, ax=axes[1], hue=\"CN_1\", legend=False)\n",
    "vaf = sns.scatterplot(data=snv, x=\"pos\", y=\"vaf\", s=2, ax=axes[2], hue=\"CN_1\", legend=False)\n",
    "\n",
    "axes[0].set_ylim(0,1) \n",
    "sns.move_legend(\n",
    "    baf, \n",
    "    \"lower center\",\n",
    "    bbox_to_anchor=(.5, 1.1), ncol=4, title=None, frameon=True,\n",
    ")\n",
    "\n",
    "axes[0].set_title(f'Purity = {purity}, Coverage = {coverage}')\n",
    "fig.tight_layout()"
   ]
  },
  {
   "cell_type": "code",
   "execution_count": null,
   "metadata": {},
   "outputs": [],
   "source": [
    "Major = 1\n",
    "minor = 1\n",
    "tot = Major+minor\n",
    "cn = str(Major) + ':' + str(minor)"
   ]
  },
  {
   "cell_type": "code",
   "execution_count": null,
   "metadata": {},
   "outputs": [],
   "source": [
    "tmp_snv = snv#.loc[snv.CN_1 == cn]\n",
    "vaf = torch.tensor(np.array(tmp_snv['nv']).reshape(-1, 1))\n",
    "dp = torch.tensor(np.array(tmp_snv['coverage']).reshape(-1, 1))"
   ]
  },
  {
   "cell_type": "code",
   "execution_count": null,
   "metadata": {},
   "outputs": [],
   "source": [
    "tmp_snp = snp.loc[snv.CN_1 == cn]\n",
    "baf = torch.tensor(np.array(tmp_snp['baf']).reshape(-1, 1))\n",
    "snp_dp = torch.tensor(np.array(tmp_snp['cov']).reshape(-1, 1))\n",
    "dr = torch.tensor(np.array(tmp_snp['dr']).reshape(-1, 1))"
   ]
  },
  {
   "cell_type": "code",
   "execution_count": null,
   "metadata": {},
   "outputs": [],
   "source": [
    "sns.set_theme(style=\"white\", font_scale=1)\n",
    "fig, axes = plt.subplots(4, 1, figsize=(9, 7))\n",
    "\n",
    "baf_p = 1\n",
    "dr_p =  1\n",
    "vaf_p = 1\n",
    "\n",
    "comb = [[1,1], [1,0], [2,2], [2,0],[2,1]]\n",
    "ploidy = 2\n",
    "for c in comb:\n",
    "    print(c)\n",
    "    \n",
    "    Major = c[0]\n",
    "    minor = c[1]\n",
    "\n",
    "    num = (purity * minor) +  (1 - purity)\n",
    "    den = (purity * (Major + minor)) + (2 * (1 - purity))\n",
    "    prob = num / den\n",
    "\n",
    "    alpha = ((snp_dp-2) * prob + 1) / (1 - prob)       \n",
    "    baf_lk = dist.Beta(concentration1 = alpha, \n",
    "                        concentration0 = snp_dp).log_prob(\n",
    "        baf\n",
    "        )\n",
    "    axes[0].hist(baf_lk*baf_p, label=str(c), bins = 5,  histtype='step')\n",
    "    \n",
    "\n",
    "    v_dr = ((2 * (1-purity)) + (purity * (Major + minor))) / ploidy\n",
    "    dr_lk = dist.Gamma(concentration = v_dr * np.sqrt(snp_dp) + 1, \n",
    "                        rate = np.sqrt(snp_dp)).log_prob(\n",
    "        dr\n",
    "        )\n",
    "    axes[1].hist(dr_lk*dr_p, label=str(c), bins = 10, histtype='step')\n",
    "    \n",
    "    \n",
    "    clonal_peak = get_clonal_peaks_unique(Major+minor, Major, minor, purity)\n",
    "    vaf_lk = 0.0\n",
    "    for p in clonal_peak:\n",
    "        bin_lk = dist.Binomial(total_count = dp, \n",
    "                                        probs = torch.tensor(p),\n",
    "                                ).log_prob(vaf)\n",
    "        vaf_lk+= (1/len(cn)) * bin_lk\n",
    "    axes[2].hist(vaf_lk*vaf_p, label=str(c), bins = 5,  histtype='step')\n",
    "    \n",
    "    tot_lk = baf_p * baf_lk + dr_p * dr_lk + vaf_p * vaf_lk\n",
    "    axes[3].hist(tot_lk, label=str(c), bins = 5, histtype='step')\n",
    "    \n",
    "axes[0].set_xlabel('baf_lk')\n",
    "axes[1].set_xlabel('dr_lk')\n",
    "axes[2].set_xlabel('vaf_lk')\n",
    "axes[3].set_xlabel('tot_lk')\n",
    "\n",
    "plt.title(f'Correct CN = {cn}')\n",
    "plt.legend()\n",
    "plt.tight_layout()"
   ]
  },
  {
   "cell_type": "code",
   "execution_count": null,
   "metadata": {},
   "outputs": [],
   "source": [
    "sns.set_theme(style=\"white\", font_scale=1)\n",
    "fig, axes = plt.subplots(1, 1, figsize=(9, 7))\n",
    "\n",
    "\n",
    "comb = [[1,1], [1,0], [2,2], [2,0],[2,1]]\n",
    "ploidy = 2\n",
    "for c in comb:\n",
    "    print(c)\n",
    "    \n",
    "    Major = c[0]\n",
    "    minor = c[1]\n",
    "\n",
    "    clonal_peak = get_clonal_peaks_unique(Major+minor, Major, minor, purity)\n",
    "    print(clonal_peak)\n",
    "\n",
    "    tmp_peak = 0.0\n",
    "    for p in clonal_peak:\n",
    "        bin_lk = dist.Binomial(total_count = dp, \n",
    "                                        probs = torch.tensor(p),\n",
    "                                ).log_prob(vaf)\n",
    "        tmp_peak+= (1/len(cn)) * bin_lk\n",
    "    plt.hist(tmp_peak, label=str(c), bins = 5,  histtype='step')\n",
    "\n",
    "plt.title(f'Correct CN = {cn}')\n",
    "plt.legend()\n",
    "plt.tight_layout()"
   ]
  },
  {
   "cell_type": "markdown",
   "metadata": {},
   "source": [
    "## Remove tail by Gaussian KDE"
   ]
  },
  {
   "cell_type": "code",
   "execution_count": null,
   "metadata": {},
   "outputs": [],
   "source": [
    "from scipy.signal import find_peaks\n",
    "from scipy.stats import gaussian_kde"
   ]
  },
  {
   "cell_type": "code",
   "execution_count": null,
   "metadata": {},
   "outputs": [],
   "source": [
    "data = '/Users/lucreziavaleriani/Desktop/orfeo_LTS/CNA/segmentation/sim_data_races/data_races/'\n",
    "sim = 'sim_1'\n",
    "comb = [c for c in os.listdir(f'{data}{sim}') if c.startswith('cov')]\n",
    "c = comb[-8]\n",
    "\n",
    "data = pd.read_csv(f'{data}{sim}/{c}/mirr_smooth_snv.csv').sort_values('pos')"
   ]
  },
  {
   "cell_type": "code",
   "execution_count": null,
   "metadata": {},
   "outputs": [],
   "source": [
    "Major = 1\n",
    "minor = 1\n",
    "tot = Major+minor\n",
    "cn = str(Major) + ':' + str(minor)\n",
    "\n",
    "#data = data.loc[data['vaf'] < 1]\n",
    "data = data.loc[data.cna_id == cn]\n",
    "\n",
    "data_input = {'baf':torch.tensor(np.array(data['mean_baf']).reshape(-1, 1)), \n",
    "              'dr':torch.tensor(np.array(data['mean_dr']).reshape(-1, 1)),\n",
    "              'vaf':torch.tensor(np.array(data['NV']).reshape(-1, 1)),\n",
    "              'dp':torch.tensor(np.array(data['DP']).reshape(-1, 1)),\n",
    "              'dp_snp':torch.tensor(np.array(data['mean_dp']).reshape(-1, 1))}"
   ]
  },
  {
   "cell_type": "code",
   "execution_count": null,
   "metadata": {},
   "outputs": [],
   "source": [
    "af = (np.array(data['NV'])/np.array(data['DP']))\n",
    "kernel_adjust = 1.0  # This is the equivalent of 'adjust' in R\n",
    "bandwidth = 'scott'  # Can also use 'silverman' or a specific value\n",
    "kde = gaussian_kde(af, bw_method=bandwidth)"
   ]
  },
  {
   "cell_type": "code",
   "execution_count": null,
   "metadata": {},
   "outputs": [],
   "source": [
    "np.savetxt('/Users/lucreziavaleriani/Desktop/output.csv', af, delimiter=',')"
   ]
  },
  {
   "cell_type": "code",
   "execution_count": null,
   "metadata": {},
   "outputs": [],
   "source": [
    "plt.hist(af, bins=100)"
   ]
  },
  {
   "cell_type": "code",
   "execution_count": null,
   "metadata": {},
   "outputs": [],
   "source": [
    "x = np.linspace(np.min(af), np.max(af), 1000)\n",
    "res_kde = kde(x)\n",
    "plt.plot(x, res_kde)"
   ]
  },
  {
   "cell_type": "code",
   "execution_count": null,
   "metadata": {},
   "outputs": [],
   "source": [
    "peaks, height = find_peaks(res_kde, distance=5, height=1) \n",
    "plt.plot(res_kde)\n",
    "plt.plot(peaks, res_kde[peaks], \"x\")\n",
    "plt.plot(np.zeros_like(kde), \"--\", color=\"gray\")\n",
    "plt.show()"
   ]
  },
  {
   "cell_type": "code",
   "execution_count": null,
   "metadata": {},
   "outputs": [],
   "source": [
    "df = pd.DataFrame({'x':peaks, 'y':height['peak_heights']})\n",
    "df"
   ]
  },
  {
   "cell_type": "code",
   "execution_count": null,
   "metadata": {},
   "outputs": [],
   "source": [
    "max(df.y) * (1 / 2)"
   ]
  },
  {
   "cell_type": "code",
   "execution_count": null,
   "metadata": {},
   "outputs": [],
   "source": [
    "df.y <= max(df.y) * (1 / 2)"
   ]
  },
  {
   "cell_type": "markdown",
   "metadata": {},
   "source": [
    "## Mirror VAF by purity"
   ]
  },
  {
   "cell_type": "code",
   "execution_count": null,
   "metadata": {},
   "outputs": [],
   "source": [
    "def get_clonal_peaks(tot, Major, minor, purity):\n",
    "    mult = []\n",
    "    for i,v in enumerate(Major):\n",
    "        m = []\n",
    "        if torch.equal(Major[i], minor[i]):\n",
    "            m.append(Major[i][0])\n",
    "        else:\n",
    "            if minor[i] != 0:\n",
    "                m.append(Major[i][0])\n",
    "                m.append(minor[i][0])\n",
    "            else:\n",
    "                m.append(Major[i][0])\n",
    "        if torch.equal(Major[i], torch.tensor([2])) and torch.equal(minor[i], torch.tensor([1])) == False:\n",
    "            m.append(torch.tensor(1))\n",
    "        mult.append(m)\n",
    "\n",
    "    clonal_peaks = []\n",
    "    for i,c in enumerate(mult):\n",
    "        p = []\n",
    "        for m in c:\n",
    "            cp = m * purity / (tot[i] * purity + 2 * (1 - purity))\n",
    "            p.append(cp)\n",
    "        clonal_peaks.append(p)\n",
    "        \n",
    "    return clonal_peaks"
   ]
  },
  {
   "cell_type": "code",
   "execution_count": null,
   "metadata": {},
   "outputs": [],
   "source": [
    "x = torch.tensor([[0],\n",
    "        [1],\n",
    "        [2],\n",
    "        [3],\n",
    "        [4]])\n",
    "\n",
    "tot =  torch.tensor([1, 2, 2, 3, 4])\n",
    "Major = torch.tensor([1, 2, 1, 2, 2])\n",
    "minor = torch.tensor([0, 0, 1, 1, 2])\n",
    "\n",
    "purity = 1"
   ]
  },
  {
   "cell_type": "code",
   "execution_count": null,
   "metadata": {},
   "outputs": [],
   "source": [
    "clonal_peaks = get_clonal_peaks(tot[x], Major[x], minor[x], purity)\n",
    "clonal_peaks"
   ]
  },
  {
   "cell_type": "code",
   "execution_count": null,
   "metadata": {},
   "outputs": [],
   "source": [
    "cn = clonal_peaks[0] \n",
    "thr = sum(cn)/2\n",
    "mirr = sum(cn)\n",
    "\n",
    "vv = vaf/dp"
   ]
  },
  {
   "cell_type": "code",
   "execution_count": null,
   "metadata": {},
   "outputs": [],
   "source": [
    "tmp_vaf_lk = []\n",
    "for cn in clonal_peaks:\n",
    "    print(cn)\n",
    "    \n",
    "    thr = sum(cn)/2\n",
    "    mirr = sum(cn)\n",
    "    \n",
    "    data = torch.tensor(np.where(vv <= thr, mirr - vv, vv),  dtype=torch.int32)\n",
    "    \n",
    "    tmp_peak = 0.0\n",
    "    p = max(cn)\n",
    "    \n",
    "    bin_lk = dist.Binomial(total_count = dp, \n",
    "                            probs = p).log_prob(\n",
    "    data\n",
    "    )\n",
    "    tmp_vaf_lk.append(bin_lk)\n",
    "vaf_lk = torch.cat(tmp_vaf_lk, dim=1)"
   ]
  }
 ],
 "metadata": {
  "kernelspec": {
   "display_name": "locate",
   "language": "python",
   "name": "python3"
  },
  "language_info": {
   "codemirror_mode": {
    "name": "ipython",
    "version": 3
   },
   "file_extension": ".py",
   "mimetype": "text/x-python",
   "name": "python",
   "nbconvert_exporter": "python",
   "pygments_lexer": "ipython3",
   "version": "3.11.9"
  }
 },
 "nbformat": 4,
 "nbformat_minor": 2
}
