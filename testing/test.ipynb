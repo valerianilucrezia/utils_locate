{
 "cells": [
  {
   "cell_type": "code",
   "execution_count": null,
   "metadata": {},
   "outputs": [],
   "source": [
    "%load_ext autoreload\n",
    "%autoreload 2"
   ]
  },
  {
   "cell_type": "code",
   "execution_count": null,
   "metadata": {},
   "outputs": [],
   "source": [
    "import torch\n",
    "import os\n",
    "import pyro\n",
    "from pyro.optim import Adam, ClippedAdam\n",
    "from pyro.infer import TraceMeanField_ELBO, TraceEnum_ELBO, TraceGraph_ELBO, Trace_ELBO\n",
    "\n",
    "import matplotlib.pyplot as plt\n",
    "import seaborn as sns\n",
    "import numpy as np\n",
    "import pandas as pd\n",
    "import pickle\n",
    "\n",
    "os.chdir('/Users/lucreziavaleriani/Documents/GitHub/LOCATE/')\n",
    "from simulations.simulations import simulate_segment, simulate_data"
   ]
  },
  {
   "cell_type": "code",
   "execution_count": null,
   "metadata": {},
   "outputs": [],
   "source": [
    "purity = .9\n",
    "coverage = 100\n",
    "ploidy = 2\n",
    "\n",
    "segs = simulate_segment(only_clonal = True, purity = purity, coverage = coverage, genome_size = 30000000)\n",
    "snp,snv = simulate_data(segs)\n",
    "\n",
    "snv = snv.loc[snv['coverage'] > snv['nv']] \n",
    "#snv = snv.loc[snv['vaf'] > 0.15] \n",
    "take_idx = snv.index\n",
    "snp = snp[snp.index.isin(take_idx)]\n",
    "\n",
    "\n",
    "data_input = {'baf':torch.tensor(np.array(snp['baf']).reshape(-1, 1)), \n",
    "              'dr':torch.tensor(np.array(snp['dr']).reshape(-1, 1)),\n",
    "              'vaf':torch.tensor(np.array(snv['nv']).reshape(-1, 1)),\n",
    "              'dp':torch.tensor(np.array(snv['coverage']).reshape(-1, 1)),\n",
    "              'dp_snp':torch.tensor(np.array(snp['cov']).reshape(-1, 1))}\n",
    "cns = snp.CN_1\n",
    "print(set(cns))"
   ]
  },
  {
   "cell_type": "code",
   "execution_count": null,
   "metadata": {},
   "outputs": [],
   "source": [
    "sns.set_theme(style=\"white\", font_scale=1)\n",
    "fig, axes = plt.subplots(3, 1, figsize=(8, 7))\n",
    "\n",
    "baf = sns.scatterplot(data=snp, x=\"pos\", y=\"baf\", s=2, ax=axes[0], hue=\"CN_1\")\n",
    "dr = sns.scatterplot(data=snp, x=\"pos\", y=\"dr\", s=2, ax=axes[1], hue=\"CN_1\", legend=False)\n",
    "vaf = sns.scatterplot(data=snv, x=\"pos\", y=\"vaf\", s=2, ax=axes[2], hue=\"CN_1\", legend=False)\n",
    "\n",
    "axes[0].set_ylim(0,1) \n",
    "sns.move_legend(\n",
    "    baf, \n",
    "    \"lower center\",\n",
    "    bbox_to_anchor=(.5, 1.2), ncol=4, title=None, frameon=True,\n",
    ")\n",
    "\n",
    "axes[0].set_title(f'Purity = {purity}, Coverage = {coverage}')\n",
    "fig.tight_layout()"
   ]
  },
  {
   "cell_type": "code",
   "execution_count": null,
   "metadata": {},
   "outputs": [],
   "source": [
    "import locate as l\n",
    "from locate.models import Clonal\n",
    "from locate.utils import plot_loss"
   ]
  },
  {
   "cell_type": "code",
   "execution_count": null,
   "metadata": {},
   "outputs": [],
   "source": [
    "locate = l.LOCATE(CUDA = False)\n",
    "\n",
    "locate.set_model(Clonal)\n",
    "locate.set_optimizer(ClippedAdam)\n",
    "locate.set_loss(TraceEnum_ELBO)\n",
    "locate.initialize_model({\"baf\": data_input[\"baf\"],\n",
    "                         \"dr\": data_input[\"dr\"], \n",
    "                         \"dp_snp\": data_input[\"dp_snp\"], \n",
    "                         \"vaf\": data_input[\"vaf\"], \n",
    "                         \"dp\": data_input[\"dp\"]\n",
    "                         })\n",
    "\n",
    "locate.set_model_params({\"jumping_prob\" : 1e-6,\n",
    "                         \"fix_purity\": False,\n",
    "                         \"prior_purity\": purity,\n",
    "                         \"prior_ploidy\": ploidy,\n",
    "                         \"scaling_factors\": [1,1,1]})"
   ]
  },
  {
   "cell_type": "code",
   "execution_count": null,
   "metadata": {},
   "outputs": [],
   "source": [
    "ll = locate.run(steps = 600, param_optimizer = {\"lr\" : 0.05})"
   ]
  },
  {
   "cell_type": "code",
   "execution_count": null,
   "metadata": {},
   "outputs": [],
   "source": [
    "plot_loss(ll[0])\n"
   ]
  },
  {
   "cell_type": "code",
   "execution_count": null,
   "metadata": {},
   "outputs": [],
   "source": [
    "bau = locate.learned_parameters()"
   ]
  },
  {
   "cell_type": "code",
   "execution_count": null,
   "metadata": {},
   "outputs": [],
   "source": [
    "res = pd.DataFrame({'CN_Major':bau[\"CN_Major\"]+0.05,\n",
    "                    'CN_minor':bau[\"CN_minor\"]-0.05,\n",
    "                    'pos':[i for i in range(len(bau[\"CN_minor\"]))]})"
   ]
  },
  {
   "cell_type": "code",
   "execution_count": null,
   "metadata": {},
   "outputs": [],
   "source": [
    "sns.set_theme(style=\"white\", font_scale=1)\n",
    "fig, axes = plt.subplots(4, 1, figsize=(8, 7))\n",
    "\n",
    "baf = sns.scatterplot(data=snp, x=\"pos\", y=\"baf\", s=2, ax=axes[0], hue=\"CN_1\")\n",
    "dr = sns.scatterplot(data=snp, x=\"pos\", y=\"dr\", s=2, ax=axes[1], hue=\"CN_1\", legend=False)\n",
    "vaf = sns.scatterplot(data=snv, x=\"pos\", y=\"vaf\", s=2, ax=axes[2], hue=\"CN_1\", legend=False)\n",
    "\n",
    "cn = sns.scatterplot(data=res, x=\"pos\", y=\"CN_Major\", s=2, ax=axes[3], legend=False)\n",
    "cn = sns.scatterplot(data=res, x=\"pos\", y=\"CN_minor\", s=2, ax=axes[3], legend=False)\n",
    "\n",
    "axes[0].set_ylim(0,1) \n",
    "sns.move_legend(\n",
    "    baf, \n",
    "    \"lower center\",\n",
    "    bbox_to_anchor=(.5, 1.2), ncol=4, title=None, frameon=True,\n",
    ")\n",
    "\n",
    "axes[0].set_title(f'True Purity = {purity}, Coverage = {coverage}')\n",
    "inf_purity = float(bau['purity'])\n",
    "axes[3].set_title(f'Inferred Purity = {round(inf_purity, 2)}')\n",
    "fig.tight_layout()"
   ]
  }
 ],
 "metadata": {
  "kernelspec": {
   "display_name": "Python 3",
   "language": "python",
   "name": "python3"
  },
  "language_info": {
   "codemirror_mode": {
    "name": "ipython",
    "version": 3
   },
   "file_extension": ".py",
   "mimetype": "text/x-python",
   "name": "python",
   "nbconvert_exporter": "python",
   "pygments_lexer": "ipython3",
   "version": "3.11.9"
  }
 },
 "nbformat": 4,
 "nbformat_minor": 2
}
